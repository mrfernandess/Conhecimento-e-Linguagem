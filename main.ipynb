{
 "cells": [
  {
   "cell_type": "markdown",
   "id": "47f6386a",
   "metadata": {},
   "source": [
    "## **Recolha e Pré-processamento**"
   ]
  },
  {
   "cell_type": "code",
   "execution_count": 3,
   "id": "e0a522cb",
   "metadata": {},
   "outputs": [],
   "source": [
    "from Bio import Entrez\n",
    "import pandas as pd\n",
    "\n",
    "Entrez.email = \"conhecimentolinguagem@gmail.com\"\n",
    "term = '(\"disease\"[MeSH Terms]) AND (\"symptom\"[Title/Abstract] OR \"treatment\"[Title/Abstract]) AND (\"2020\"[Date - Publication] : \"2025\"[Date - Publication])'\n",
    "\n",
    "\n",
    "handle = Entrez.esearch(db=\"pubmed\", term=term, retmax=100)\n",
    "record = Entrez.read(handle)\n",
    "ids = record[\"IdList\"]\n",
    "\n",
    "articles = []\n",
    "for pmid in ids:\n",
    "    fetch = Entrez.efetch(db=\"pubmed\", id=pmid, rettype=\"abstract\", retmode=\"text\")\n",
    "    text = fetch.read()\n",
    "    articles.append({\"pmid\": pmid, \"text\": text})\n",
    "\n",
    "df = pd.DataFrame(articles)\n",
    "\n",
    "# Save the articles to a CSV file\n",
    "df.to_csv(\"articles.csv\", index=False)"
   ]
  },
  {
   "cell_type": "markdown",
   "id": "014cc3b4",
   "metadata": {},
   "source": [
    "## **Extração de Entidades**"
   ]
  },
  {
   "cell_type": "markdown",
   "id": "fb35be53",
   "metadata": {},
   "source": [
    "- Criar um ambiente virtual novo\n",
    "- pip install scapy==3.7.4\n",
    "- pip install scispacy==0.5.1\n",
    "- Download de \"en_core_sci_sm\" em https://allenai.github.io/scispacy/\n",
    "- pip install \"location\"\n"
   ]
  },
  {
   "cell_type": "code",
   "execution_count": null,
   "id": "b6fc3a41",
   "metadata": {},
   "outputs": [
    {
     "name": "stdout",
     "output_type": "stream",
     "text": [
      "Ugeskr Laeger ENTITY\n",
      "Acute vestibular syndrome ENTITY\n",
      "Agger-Nielsen HE(1 ENTITY\n",
      "Ovesen T(2) ENTITY\n",
      "Author ENTITY\n",
      "information ENTITY\n",
      "Syddansk ENTITY\n",
      "Universitetshospital ENTITY\n",
      "Esbjerg ENTITY\n",
      "(2)Universitetsklinikken ENTITY\n",
      "Smag ENTITY\n",
      "Søvn ENTITY\n",
      "Regionshospitalet ENTITY\n",
      "Gødstrup ENTITY\n",
      "Acute vestibular syndrome ENTITY\n",
      "AVS ENTITY\n",
      "systematic approach ENTITY\n",
      "central ENTITY\n",
      "peripheral causes ENTITY\n",
      "conditions ENTITY\n",
      "stroke ENTITY\n",
      "vestibular \n",
      "neuritis ENTITY\n",
      "head impulse ENTITY\n",
      "nystagmus ENTITY\n",
      "skew deviation ENTITY\n",
      "HINTS+ ENTITY\n",
      "strokes ENTITY\n",
      "treatment ENTITY\n",
      "peripheral ENTITY\n",
      "AVS ENTITY\n",
      "vestibular rehabilitation ENTITY\n",
      "central causes ENTITY\n",
      "targeted therapies ENTITY\n",
      "effective ENTITY\n",
      "diagnosis ENTITY\n",
      "management \n",
      " ENTITY\n",
      "outcomes ENTITY\n",
      "quality of life ENTITY\n",
      "review ENTITY\n",
      "Published ENTITY\n",
      "DOI ENTITY\n",
      "PMID ENTITY\n",
      "Indexed ENTITY\n",
      "MEDLINE ENTITY\n"
     ]
    }
   ],
   "source": [
    "import spacy\n",
    "\n",
    "df = pd.read_csv(\"articles.csv\")\n",
    "\n",
    "nlp = spacy.load(\"en_core_sci_sm\") # carrega o modelo do scispaCy\n",
    "\n",
    "doc = nlp(df.iloc[0]['text'])\n",
    "for ent in doc.ents:\n",
    "    print(ent.text, ent.label_)"
   ]
  }
 ],
 "metadata": {
  "kernelspec": {
   "display_name": "CLProject",
   "language": "python",
   "name": "python3"
  },
  "language_info": {
   "codemirror_mode": {
    "name": "ipython",
    "version": 3
   },
   "file_extension": ".py",
   "mimetype": "text/x-python",
   "name": "python",
   "nbconvert_exporter": "python",
   "pygments_lexer": "ipython3",
   "version": "3.10.19"
  }
 },
 "nbformat": 4,
 "nbformat_minor": 5
}

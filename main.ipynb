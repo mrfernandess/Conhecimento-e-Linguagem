{
 "cells": [
  {
   "cell_type": "markdown",
   "id": "47f6386a",
   "metadata": {},
   "source": [
    "## **Recolha e Pré-processamento**"
   ]
  },
  {
   "cell_type": "code",
   "execution_count": 3,
   "id": "e0a522cb",
   "metadata": {},
   "outputs": [],
   "source": [
    "from Bio import Entrez\n",
    "import pandas as pd\n",
    "\n",
    "Entrez.email = \"conhecimentolinguagem@gmail.com\"\n",
    "term = '(\"disease\"[MeSH Terms]) AND (\"symptom\"[Title/Abstract] OR \"treatment\"[Title/Abstract]) AND (\"2020\"[Date - Publication] : \"2025\"[Date - Publication])'\n",
    "\n",
    "\n",
    "handle = Entrez.esearch(db=\"pubmed\", term=term, retmax=100)\n",
    "record = Entrez.read(handle)\n",
    "ids = record[\"IdList\"]\n",
    "\n",
    "articles = []\n",
    "for pmid in ids:\n",
    "    fetch = Entrez.efetch(db=\"pubmed\", id=pmid, rettype=\"abstract\", retmode=\"text\")\n",
    "    text = fetch.read()\n",
    "    articles.append({\"pmid\": pmid, \"text\": text})\n",
    "\n",
    "df = pd.DataFrame(articles)\n",
    "\n",
    "# Save the articles to a CSV file\n",
    "df.to_csv(\"articles.csv\", index=False)"
   ]
  },
  {
   "cell_type": "markdown",
   "id": "014cc3b4",
   "metadata": {},
   "source": [
    "## **Extração de Entidades**"
   ]
  },
  {
   "cell_type": "markdown",
   "id": "fb35be53",
   "metadata": {},
   "source": [
    "- Criar um ambiente virtual novo\n",
    "- pip install scapy==3.7.4\n",
    "- pip install scispacy==0.5.1\n",
    "- Download de \"en_ner_bc5cdr_md\" em https://allenai.github.io/scispacy/\n",
    "- pip install \"location\"\n"
   ]
  },
  {
   "cell_type": "markdown",
   "id": "54b1c41d",
   "metadata": {},
   "source": [
    "   ### **Spacy e Scispacy**  "
   ]
  },
  {
   "cell_type": "code",
   "execution_count": 4,
   "id": "b6fc3a41",
   "metadata": {},
   "outputs": [
    {
     "name": "stdout",
     "output_type": "stream",
     "text": [
      "Acute vestibular syndrome DISEASE\n",
      "Agger-Nielsen CHEMICAL\n",
      "Gødstrup CHEMICAL\n",
      "Acute vestibular syndrome DISEASE\n",
      "AVS DISEASE\n",
      "stroke DISEASE\n",
      "neuritis DISEASE\n",
      "nystagmus DISEASE\n",
      "strokes DISEASE\n"
     ]
    }
   ],
   "source": [
    "import pandas as pd\n",
    "import spacy\n",
    "\n",
    "df = pd.read_csv(\"articles.csv\")\n",
    "\n",
    "nlp = spacy.load(\"en_ner_bc5cdr_md\") # carrega o modelo do scispaCy\n",
    "\n",
    "doc = nlp(df.iloc[0]['text'])\n",
    "for ent in doc.ents:\n",
    "    print(ent.text, ent.label_)"
   ]
  },
  {
   "cell_type": "markdown",
   "id": "5d35b6ce",
   "metadata": {},
   "source": [
    "#### **Transformers**"
   ]
  },
  {
   "cell_type": "markdown",
   "id": "784dfae1",
   "metadata": {},
   "source": [
    "- Apenas está a extrair doenças e tratamentos, falta os sintomas"
   ]
  },
  {
   "cell_type": "code",
   "execution_count": 1,
   "id": "24584bd3",
   "metadata": {},
   "outputs": [
    {
     "name": "stderr",
     "output_type": "stream",
     "text": [
      "c:\\Users\\ferna\\anaconda3\\envs\\CLProject\\lib\\site-packages\\tqdm\\auto.py:21: TqdmWarning: IProgress not found. Please update jupyter and ipywidgets. See https://ipywidgets.readthedocs.io/en/stable/user_install.html\n",
      "  from .autonotebook import tqdm as notebook_tqdm\n",
      "c:\\Users\\ferna\\anaconda3\\envs\\CLProject\\lib\\site-packages\\huggingface_hub\\file_download.py:143: UserWarning: `huggingface_hub` cache-system uses symlinks by default to efficiently store duplicated files but your machine does not support them in C:\\Users\\ferna\\.cache\\huggingface\\hub\\models--HUMADEX--english_medical_ner. Caching files will still work but in a degraded version that might require more space on your disk. This warning can be disabled by setting the `HF_HUB_DISABLE_SYMLINKS_WARNING` environment variable. For more details, see https://huggingface.co/docs/huggingface_hub/how-to-cache#limitations.\n",
      "To support symlinks on Windows, you either need to activate Developer Mode or to run Python as an administrator. In order to activate developer mode, see this article: https://docs.microsoft.com/en-us/windows/apps/get-started/enable-your-device-for-development\n",
      "  warnings.warn(message)\n",
      "Xet Storage is enabled for this repo, but the 'hf_xet' package is not installed. Falling back to regular HTTP download. For better performance, install the package with: `pip install huggingface_hub[hf_xet]` or `pip install hf_xet`\n",
      "Device set to use cpu\n"
     ]
    },
    {
     "name": "stdout",
     "output_type": "stream",
     "text": [
      "Texto: acute, Tipo: B-PROBLEM, Confiança: 0.9998\n",
      "Texto: l, Tipo: I-PROBLEM, Confiança: 0.9996\n",
      "Texto: ##ymph, Tipo: I-PROBLEM, Confiança: 0.9996\n",
      "Texto: ##ob, Tipo: I-PROBLEM, Confiança: 0.9996\n",
      "Texto: ##lastic, Tipo: I-PROBLEM, Confiança: 0.9996\n",
      "Texto: le, Tipo: E-PROBLEM, Confiança: 0.9997\n",
      "Texto: ##uke, Tipo: E-PROBLEM, Confiança: 0.9997\n",
      "Texto: ##mia, Tipo: E-PROBLEM, Confiança: 0.9998\n",
      "Texto: met, Tipo: S-TREATMENT, Confiança: 0.9976\n",
      "Texto: ##hot, Tipo: S-TREATMENT, Confiança: 0.9661\n",
      "Texto: ##re, Tipo: E-TREATMENT, Confiança: 0.8310\n",
      "Texto: ##xa, Tipo: E-TREATMENT, Confiança: 0.8887\n",
      "Texto: ##te, Tipo: S-TREATMENT, Confiança: 0.6880\n",
      "Texto: the, Tipo: B-TREATMENT, Confiança: 0.9998\n",
      "Texto: treatment, Tipo: I-TREATMENT, Confiança: 0.9998\n",
      "Texto: regime, Tipo: E-TREATMENT, Confiança: 0.9997\n",
      "Texto: ##n, Tipo: E-TREATMENT, Confiança: 0.9996\n"
     ]
    }
   ],
   "source": [
    "from transformers import AutoTokenizer, AutoModelForTokenClassification\n",
    "from transformers import pipeline\n",
    "\n",
    "# Carregar o modelo e o tokenizador\n",
    "model_name = \"HUMADEX/english_medical_ner\"\n",
    "tokenizer = AutoTokenizer.from_pretrained(model_name)\n",
    "model = AutoModelForTokenClassification.from_pretrained(model_name)\n",
    "\n",
    "# Criar o pipeline de NER\n",
    "nlp_ner = pipeline(\"ner\", model=model, tokenizer=tokenizer)\n",
    "\n",
    "# Texto clínico de exemplo\n",
    "text = \"\"\"\n",
    "The patient was diagnosed with acute lymphoblastic leukemia and was prescribed methotrexate as part of the treatment regimen.\n",
    "\"\"\"\n",
    "\n",
    "# Aplicar o NER\n",
    "entities = nlp_ner(text)\n",
    "\n",
    "# Exibir as entidades reconhecidas\n",
    "for entity in entities:\n",
    "    print(f\"Texto: {entity['word']}, Tipo: {entity['entity']}, Confiança: {entity['score']:.4f}\")\n"
   ]
  }
 ],
 "metadata": {
  "kernelspec": {
   "display_name": "CLProject",
   "language": "python",
   "name": "python3"
  },
  "language_info": {
   "codemirror_mode": {
    "name": "ipython",
    "version": 3
   },
   "file_extension": ".py",
   "mimetype": "text/x-python",
   "name": "python",
   "nbconvert_exporter": "python",
   "pygments_lexer": "ipython3",
   "version": "3.10.19"
  }
 },
 "nbformat": 4,
 "nbformat_minor": 5
}

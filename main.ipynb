{
 "cells": [
  {
   "cell_type": "markdown",
   "id": "47f6386a",
   "metadata": {},
   "source": [
    "## **Recolha e Pré-processamento**"
   ]
  },
  {
   "cell_type": "code",
   "execution_count": 3,
   "id": "e0a522cb",
   "metadata": {},
   "outputs": [],
   "source": [
    "from Bio import Entrez\n",
    "import pandas as pd\n",
    "\n",
    "Entrez.email = \"conhecimentolinguagem@gmail.com\"\n",
    "term = '(\"disease\"[MeSH Terms]) AND (\"symptom\"[Title/Abstract] OR \"treatment\"[Title/Abstract]) AND (\"2020\"[Date - Publication] : \"2025\"[Date - Publication])'\n",
    "\n",
    "\n",
    "handle = Entrez.esearch(db=\"pubmed\", term=term, retmax=100)\n",
    "record = Entrez.read(handle)\n",
    "ids = record[\"IdList\"]\n",
    "\n",
    "articles = []\n",
    "for pmid in ids:\n",
    "    fetch = Entrez.efetch(db=\"pubmed\", id=pmid, rettype=\"abstract\", retmode=\"text\")\n",
    "    text = fetch.read()\n",
    "    articles.append({\"pmid\": pmid, \"text\": text})\n",
    "\n",
    "df = pd.DataFrame(articles)\n",
    "\n",
    "# Save the articles to a CSV file\n",
    "df.to_csv(\"articles.csv\", index=False)"
   ]
  },
  {
   "cell_type": "markdown",
   "id": "014cc3b4",
   "metadata": {},
   "source": [
    "## **Extração de Entidades**"
   ]
  },
  {
   "cell_type": "code",
   "execution_count": null,
   "id": "b6fc3a41",
   "metadata": {},
   "outputs": [],
   "source": [
    "import spacy\n",
    "import scispacy\n",
    "nlp = spacy.load(\"en_ner_bionlp13cg_md\")\n",
    "\n",
    "doc = nlp(df.iloc[0]['text'])\n",
    "for ent in doc.ents:\n",
    "    print(ent.text, ent.label_)"
   ]
  }
 ],
 "metadata": {
  "kernelspec": {
   "display_name": "jupiter",
   "language": "python",
   "name": "python3"
  },
  "language_info": {
   "codemirror_mode": {
    "name": "ipython",
    "version": 3
   },
   "file_extension": ".py",
   "mimetype": "text/x-python",
   "name": "python",
   "nbconvert_exporter": "python",
   "pygments_lexer": "ipython3",
   "version": "3.13.2"
  }
 },
 "nbformat": 4,
 "nbformat_minor": 5
}
